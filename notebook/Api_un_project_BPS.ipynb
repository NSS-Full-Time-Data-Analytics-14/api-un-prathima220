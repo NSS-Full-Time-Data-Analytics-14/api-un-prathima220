{
 "cells": [
  {
   "cell_type": "code",
   "execution_count": null,
   "id": "08cd73e8-7bed-4102-aecb-a0c51ede8ae5",
   "metadata": {},
   "outputs": [],
   "source": [
    "import requests\n",
    "import matplotlib.pyplot as plt"
   ]
  },
  {
   "cell_type": "code",
   "execution_count": null,
   "id": "b894f584-a54c-4549-8f77-074212186bae",
   "metadata": {},
   "outputs": [],
   "source": [
    "url = 'http://api.worldbank.org/v2/country/all/indicator/NY.GDP.PCAP.PP.KD'\n",
    "params = {\n",
    "    'format': 'json',\n",
    "    'per_page': 17024, \n",
    "}\n",
    "response = requests.get(url, params=params)"
   ]
  },
  {
   "cell_type": "code",
   "execution_count": null,
   "id": "da56ddfc-39e9-483c-907a-93b40bd47d68",
   "metadata": {},
   "outputs": [],
   "source": [
    "response"
   ]
  },
  {
   "cell_type": "code",
   "execution_count": null,
   "id": "566115eb-9e57-4e09-af8f-9caa9ee7624c",
   "metadata": {
    "scrolled": true
   },
   "outputs": [],
   "source": [
    "response.text"
   ]
  },
  {
   "cell_type": "code",
   "execution_count": null,
   "id": "50052242-0916-4124-8106-f7c45101425c",
   "metadata": {},
   "outputs": [],
   "source": []
  },
  {
   "cell_type": "markdown",
   "id": "31e51231-5b4c-4d9a-a486-c4cbae85f943",
   "metadata": {},
   "source": [
    "## 1. Use the API to get all available data for the _GDP per capita, PPP (constant 2017 international $)_ indicator. Hint: this indicator has code \"NY.GDP.PCAP.PP.KD\". Adjust the query parameters so that you can retrieve all available rows. Convert the results to a DataFrame."
   ]
  },
  {
   "cell_type": "code",
   "execution_count": null,
   "id": "3578e518-4fd6-4185-8032-4ed9e5cd5a2f",
   "metadata": {},
   "outputs": [],
   "source": [
    "data = response.json()\n",
    "data"
   ]
  },
  {
   "cell_type": "code",
   "execution_count": null,
   "id": "e14eb23d-d56d-46f2-9089-11dcee39b01f",
   "metadata": {},
   "outputs": [],
   "source": [
    "type(data)"
   ]
  },
  {
   "cell_type": "code",
   "execution_count": null,
   "id": "6c642180-8fbd-45a0-b2bf-c7fe7e9e88ff",
   "metadata": {},
   "outputs": [],
   "source": [
    "import pandas as pd\n",
    "gdp_df = pd.DataFrame(data[1])\n",
    "gdp_df"
   ]
  },
  {
   "cell_type": "code",
   "execution_count": null,
   "id": "50945cfe-1337-416e-8d40-2164f32cf4a1",
   "metadata": {},
   "outputs": [],
   "source": [
    "gdp_df = pd.json_normalize(data[1])\n",
    "gdp_df "
   ]
  },
  {
   "cell_type": "markdown",
   "id": "c9d6236c-9b88-4fc1-9d3e-ecb58c555ae3",
   "metadata": {},
   "source": [
    "## 2. Now, use the API to get all available data for _Life expectancy at birth, total (years)_. This indicator has code \"SP.DYN.LE00.IN\". Again, convert the results to a DataFrame.\n"
   ]
  },
  {
   "cell_type": "code",
   "execution_count": null,
   "id": "e11b97af-cb63-4f3c-b09d-8427d6c77b5c",
   "metadata": {},
   "outputs": [],
   "source": [
    "url = 'http://api.worldbank.org/v2/country/all/indicator/SP.DYN.LE00.IN'\n",
    "params = {\n",
    "    'format': 'json',\n",
    "    'per_page': 17024, \n",
    "}\n",
    "response = requests.get(url, params=params)"
   ]
  },
  {
   "cell_type": "code",
   "execution_count": null,
   "id": "82471c06-6da3-4a9c-a5eb-a60af1e3ca39",
   "metadata": {},
   "outputs": [],
   "source": [
    "response.text"
   ]
  },
  {
   "cell_type": "code",
   "execution_count": null,
   "id": "eb2da8d0-fc0d-4437-b216-9716859a6830",
   "metadata": {},
   "outputs": [],
   "source": [
    "data = response.json()\n",
    "data"
   ]
  },
  {
   "cell_type": "code",
   "execution_count": null,
   "id": "66ac702b-79e8-4e9a-8ee0-9aafe1c0d120",
   "metadata": {},
   "outputs": [],
   "source": [
    "type(data)"
   ]
  },
  {
   "cell_type": "code",
   "execution_count": null,
   "id": "693e7f76-93a6-4575-9f77-6c93d352cb87",
   "metadata": {},
   "outputs": [],
   "source": [
    "import pandas as pd\n",
    "Life_expectancy_df = pd.DataFrame(data[1])\n",
    "Life_expectancy_df"
   ]
  },
  {
   "cell_type": "code",
   "execution_count": null,
   "id": "39c65137-2b7b-441f-8d7d-619be12e769d",
   "metadata": {},
   "outputs": [],
   "source": [
    "Life_expectancy_df= pd.json_normalize(data[1])\n",
    "Life_expectancy_df "
   ]
  },
  {
   "cell_type": "code",
   "execution_count": null,
   "id": "c19f66c7-8df0-43d3-b087-e67f8d3a77c2",
   "metadata": {},
   "outputs": [],
   "source": []
  },
  {
   "cell_type": "markdown",
   "id": "0f04df8e-38ec-4f3c-b46b-d3e684ff4d91",
   "metadata": {},
   "source": [
    "## 3. Merge the two results DataFrames together. You may want to rename or drop columns prior to merging.\n"
   ]
  },
  {
   "cell_type": "code",
   "execution_count": null,
   "id": "71f41db1-9373-4101-937f-6efafe0772de",
   "metadata": {},
   "outputs": [],
   "source": [
    "gdp_df.columns"
   ]
  },
  {
   "cell_type": "code",
   "execution_count": null,
   "id": "35fa74e8-a88f-4be5-a7a2-2bcee453c33e",
   "metadata": {},
   "outputs": [],
   "source": [
    "Life_expectancy_df.columns"
   ]
  },
  {
   "cell_type": "code",
   "execution_count": null,
   "id": "adc11d34-6a1a-44d6-ab43-ab2b9e3eb156",
   "metadata": {},
   "outputs": [],
   "source": [
    "gdp_df = gdp_df.drop(columns={'unit', 'obs_status', 'decimal'})\n",
    "gdp_df"
   ]
  },
  {
   "cell_type": "code",
   "execution_count": null,
   "id": "3e32a4c4-1f1e-4da4-bec7-e53f1f281ef2",
   "metadata": {},
   "outputs": [],
   "source": [
    "Life_expectancy_df = Life_expectancy_df.drop(columns={'unit', 'obs_status', 'decimal'})\n",
    "Life_expectancy_df"
   ]
  },
  {
   "cell_type": "code",
   "execution_count": null,
   "id": "ac117086-4515-41eb-9554-fde2e0936ce4",
   "metadata": {},
   "outputs": [],
   "source": [
    "gdp_life_expectancy = pd.merge(gdp_df, Life_expectancy_df,\n",
    "                              left_on = ['countryiso3code','date','country.value'],right_on =['countryiso3code','date','country.value'],\n",
    "                              how='inner')\n",
    "gdp_life_expectancy"
   ]
  },
  {
   "cell_type": "code",
   "execution_count": null,
   "id": "16ba354f-f746-4fda-b5dc-bed421f1b905",
   "metadata": {},
   "outputs": [],
   "source": [
    "gdp_life_expectancy.columns"
   ]
  },
  {
   "cell_type": "markdown",
   "id": "48553565-36eb-4641-aeda-c73582fdc3e7",
   "metadata": {},
   "source": [
    "## 4. You can also get more information about the available countries (region, capital city, income level classification, etc.) by using the [Country API](https://datahelpdesk.worldbank.org/knowledgebase/articles/898590-country-api-queries). Use this API to pull in all available data. Merge this with your other datasets. Use this to now remove the rows that correspond to regions and not countries."
   ]
  },
  {
   "cell_type": "code",
   "execution_count": null,
   "id": "52c67e9a-3d17-46f4-99ee-1bc8dbc0bba3",
   "metadata": {},
   "outputs": [],
   "source": [
    "url = 'https://api.worldbank.org/v2/country'\n",
    "params = {\n",
    "    'format': 'json',\n",
    "    'per_page': 296, \n",
    "}\n",
    "response = requests.get(url, params=params)"
   ]
  },
  {
   "cell_type": "code",
   "execution_count": null,
   "id": "6c5f5759-c3aa-4b5a-9662-49f6c8bc0ef1",
   "metadata": {},
   "outputs": [],
   "source": [
    "response"
   ]
  },
  {
   "cell_type": "code",
   "execution_count": null,
   "id": "df3e8462-b06a-49e1-83c0-a6e2eb8c6120",
   "metadata": {},
   "outputs": [],
   "source": [
    "response.text"
   ]
  },
  {
   "cell_type": "code",
   "execution_count": null,
   "id": "634f7499-d198-4f3f-9df1-b7013a84f045",
   "metadata": {},
   "outputs": [],
   "source": [
    "data = response.json()\n",
    "data"
   ]
  },
  {
   "cell_type": "code",
   "execution_count": null,
   "id": "5fb5ef0b-1d70-4be2-826e-21a7cb624aca",
   "metadata": {},
   "outputs": [],
   "source": [
    "type(data)"
   ]
  },
  {
   "cell_type": "code",
   "execution_count": null,
   "id": "a7ce8c94-f187-46e8-b52e-cd1e946efd3c",
   "metadata": {},
   "outputs": [],
   "source": [
    "income_level_df = pd.DataFrame(data[1])"
   ]
  },
  {
   "cell_type": "code",
   "execution_count": null,
   "id": "bbfd6eb0-929e-4fa1-b030-7168bbc31dda",
   "metadata": {},
   "outputs": [],
   "source": [
    "income_level_df  = pd.json_normalize(data[1]) "
   ]
  },
  {
   "cell_type": "code",
   "execution_count": null,
   "id": "74892a77-27f7-4ae0-99ae-739988431d93",
   "metadata": {},
   "outputs": [],
   "source": [
    "income_level_df "
   ]
  },
  {
   "cell_type": "code",
   "execution_count": null,
   "id": "7c81591c-e67a-4815-8dae-45396978a200",
   "metadata": {},
   "outputs": [],
   "source": [
    "income_level_df  = income_level_df .loc[income_level_df ['region.id'] != 'NA']\n",
    "income_level_df \n"
   ]
  },
  {
   "cell_type": "code",
   "execution_count": null,
   "id": "6fc37c87-7956-481a-ba58-be6e559ae83f",
   "metadata": {},
   "outputs": [],
   "source": []
  },
  {
   "cell_type": "code",
   "execution_count": null,
   "id": "cddfa7d8-2d88-4b6c-bb8a-3df472dda78c",
   "metadata": {},
   "outputs": [],
   "source": [
    "income_level_df.columns"
   ]
  },
  {
   "cell_type": "code",
   "execution_count": null,
   "id": "c609a414-e927-458b-8d30-369652928dba",
   "metadata": {},
   "outputs": [],
   "source": [
    "income_level_df = income_level_df.drop(columns={'region.iso2code', 'region.value', 'adminregion.id',\n",
    "                                                'adminregion.iso2code', 'adminregion.value',})\n",
    "income_level_df"
   ]
  },
  {
   "cell_type": "code",
   "execution_count": null,
   "id": "048e76f0-0562-4ffd-a4af-c40c63fd09aa",
   "metadata": {},
   "outputs": [],
   "source": [
    "income_level_df.columns"
   ]
  },
  {
   "cell_type": "code",
   "execution_count": null,
   "id": "eb0ba16f-493b-42e6-916f-70f8d5763f03",
   "metadata": {},
   "outputs": [],
   "source": [
    "gdp_life_expectancy.columns"
   ]
  },
  {
   "cell_type": "code",
   "execution_count": null,
   "id": "11071ca5-7d67-4574-9b31-d56604997fc9",
   "metadata": {},
   "outputs": [],
   "source": [
    "gdp_life_expectancy_income_level = pd.merge(gdp_life_expectancy,income_level_df,\n",
    "                                  left_on = ['countryiso3code'],right_on =['id'],\n",
    "                                   how='inner')\n",
    "gdp_life_expectancy_income_level"
   ]
  },
  {
   "cell_type": "code",
   "execution_count": null,
   "id": "d6d201f0-3897-4419-b225-52479d22dbc5",
   "metadata": {},
   "outputs": [],
   "source": [
    "gdp_life_expectancy_income_level.columns"
   ]
  },
  {
   "cell_type": "markdown",
   "id": "da6849eb-e8e6-474a-99a9-762c21f54e0a",
   "metadata": {},
   "source": [
    "## 1. Adjust your request so that it returns data just for the United States."
   ]
  },
  {
   "cell_type": "code",
   "execution_count": null,
   "id": "7320bb74-7198-4c37-985d-94e72c60e1e6",
   "metadata": {},
   "outputs": [],
   "source": [
    "gdp_life_expe_income_level_usa = gdp_life_expectancy_income_level.loc[gdp_life_expectancy_income_level.countryiso3code == 'USA']"
   ]
  },
  {
   "cell_type": "code",
   "execution_count": null,
   "id": "4ab7c43c-405a-423f-9160-6f2c0d730c3c",
   "metadata": {},
   "outputs": [],
   "source": [
    "gdp_life_expe_income_level_usa.shape"
   ]
  },
  {
   "cell_type": "markdown",
   "id": "eb5264a9-237b-437c-a8ab-c5b0a2c844d2",
   "metadata": {},
   "source": [
    "## 2. Adjust your request so that it returns data just for the United States for the year 2021."
   ]
  },
  {
   "cell_type": "code",
   "execution_count": null,
   "id": "377c990c-87d8-4776-86d8-03a54a1a611b",
   "metadata": {},
   "outputs": [],
   "source": [
    "gdp_life_expe_income_level_usa_21 = gdp_life_expectancy_income_level.loc[(gdp_life_expectancy_income_level.countryiso3code == 'USA') & (gdp_life_expectancy_income_level.date == '2021') ]"
   ]
  },
  {
   "cell_type": "code",
   "execution_count": null,
   "id": "1e7ae0a2-6edb-44b5-ac10-38de52653b55",
   "metadata": {},
   "outputs": [],
   "source": [
    "gdp_life_expe_income_level_usa_21 "
   ]
  },
  {
   "cell_type": "markdown",
   "id": "fbe38822-4911-4813-b979-92f8028b1810",
   "metadata": {},
   "source": [
    "## 3. Adjust your request so that it returns data just for the United States for the years 2000 through 2021."
   ]
  },
  {
   "cell_type": "code",
   "execution_count": null,
   "id": "f116b4dc-8019-442e-a689-978842db9e47",
   "metadata": {},
   "outputs": [],
   "source": [
    "gdp_life_income_2000_21 = gdp_life_expe_income_level_usa.loc[(gdp_life_expe_income_level_usa.date >='2000') & (gdp_life_expe_income_level_usa.date <= '2021')]"
   ]
  },
  {
   "cell_type": "code",
   "execution_count": null,
   "id": "b2107263-103c-427b-ab42-11ce76d3061d",
   "metadata": {},
   "outputs": [],
   "source": [
    "gdp_life_income_2000_21.shape"
   ]
  },
  {
   "cell_type": "markdown",
   "id": "18df4633-a729-4401-ad81-aafab7c5bf83",
   "metadata": {},
   "source": [
    "## 4. Adjust your request so that it returns data for the United States and Canada for the years 2000 through 2021.\n"
   ]
  },
  {
   "cell_type": "code",
   "execution_count": null,
   "id": "de7896dd-2441-492e-b6dd-1fdc0ad3f3a4",
   "metadata": {},
   "outputs": [],
   "source": [
    "countries_year_df = gdp_life_expectancy_income_level.loc[(gdp_life_expectancy_income_level.date >='2000') & (gdp_life_expectancy_income_level.date <='2021')]"
   ]
  },
  {
   "cell_type": "code",
   "execution_count": null,
   "id": "58faec54-e940-4e36-b867-ef63fa3d144b",
   "metadata": {},
   "outputs": [],
   "source": [
    "US_can_df = countries_year_df.loc[(countries_year_df.countryiso3code == 'CAN') | (countries_year_df.countryiso3code == 'USA')]\n",
    "US_can_df.shape"
   ]
  },
  {
   "cell_type": "markdown",
   "id": "bc2044a7-2b1a-4d89-9a2c-c133eb56e99f",
   "metadata": {},
   "source": [
    "## 5. If you haven't already done so and you would like to get some additional practice using loops, use the page parameter in order to pull all records. Do not change the value of the per_page parameter. You will likely need to utilize a loop of some kind in order to pull all records."
   ]
  },
  {
   "cell_type": "markdown",
   "id": "dd81111e-4b12-445b-a346-0d63510125c9",
   "metadata": {},
   "source": [
    "##  The endpoint \"http://api.worldbank.org/v2/indicator\" will return information about all available indicators. See [Indicator API Queries](https://datahelpdesk.worldbank.org/knowledgebase/articles/898599-indicator-api-queries). Use this endpoint to find the code for the \"Public Expenditure on Education (% GDP)\" indicator."
   ]
  },
  {
   "cell_type": "code",
   "execution_count": null,
   "id": "3af5a818-95dd-4022-b6d8-c44382b3052b",
   "metadata": {},
   "outputs": [],
   "source": [
    "url = 'https://api.worldbank.org/v2/indicator'\n",
    "params = {\n",
    "    'format': 'json',\n",
    "    'per_page': 24604, \n",
    "}\n",
    "response = requests.get(url, params=params)"
   ]
  },
  {
   "cell_type": "code",
   "execution_count": null,
   "id": "1adb46cd-7994-4b96-be83-71095c250dd0",
   "metadata": {},
   "outputs": [],
   "source": [
    "response.text"
   ]
  },
  {
   "cell_type": "code",
   "execution_count": null,
   "id": "5005b372-103c-4a14-ae15-625e0e7bf4a0",
   "metadata": {},
   "outputs": [],
   "source": [
    "data = response.json()\n",
    "data"
   ]
  },
  {
   "cell_type": "code",
   "execution_count": null,
   "id": "d9300353-bd0c-4519-b936-ecee43b8e173",
   "metadata": {},
   "outputs": [],
   "source": [
    "type(data)"
   ]
  },
  {
   "cell_type": "code",
   "execution_count": null,
   "id": "08cb8225-0e4a-4b40-885b-84bf7801deb4",
   "metadata": {},
   "outputs": [],
   "source": [
    "import pandas as pd\n",
    "public_df = pd.DataFrame(data[1])\n",
    "public_df"
   ]
  },
  {
   "cell_type": "code",
   "execution_count": null,
   "id": "8acb239e-81d4-4985-8f72-1def4f0338dc",
   "metadata": {},
   "outputs": [],
   "source": [
    "public_df = pd.json_normalize(data[1])\n",
    "public_df "
   ]
  },
  {
   "cell_type": "markdown",
   "id": "f7b80a7c-5ad5-4544-8cd9-937b5e52c0e5",
   "metadata": {},
   "source": [
    " ## without params"
   ]
  },
  {
   "cell_type": "code",
   "execution_count": null,
   "id": "e9121a75-504a-45dd-85f0-99ef3f2a1c90",
   "metadata": {},
   "outputs": [],
   "source": [
    "url = 'https://api.worldbank.org/v2/country/all/indicator/NY.GDP.PCAP.PP.KD?format=json&per_page=17024'\n",
    "response = requests.get(url)\n"
   ]
  },
  {
   "cell_type": "code",
   "execution_count": null,
   "id": "590f9e14-4fc5-46e9-8418-c48d82a61886",
   "metadata": {},
   "outputs": [],
   "source": [
    "response"
   ]
  },
  {
   "cell_type": "code",
   "execution_count": null,
   "id": "16b2594f-16fa-4dc3-aa40-e2e6100236dd",
   "metadata": {},
   "outputs": [],
   "source": [
    "response.text"
   ]
  },
  {
   "cell_type": "code",
   "execution_count": null,
   "id": "daaf8a8d-7212-4ca6-9177-a8969d48b8e0",
   "metadata": {},
   "outputs": [],
   "source": [
    "data = response.json()\n",
    "data"
   ]
  },
  {
   "cell_type": "code",
   "execution_count": null,
   "id": "f6a9f5a9-78d0-4d6b-828e-918bd177050e",
   "metadata": {},
   "outputs": [],
   "source": []
  },
  {
   "cell_type": "code",
   "execution_count": null,
   "id": "7f58d63d-bdc3-4da0-b23f-60ecd03b3421",
   "metadata": {},
   "outputs": [],
   "source": []
  }
 ],
 "metadata": {
  "kernelspec": {
   "display_name": "Python 3 (ipykernel)",
   "language": "python",
   "name": "python3"
  },
  "language_info": {
   "codemirror_mode": {
    "name": "ipython",
    "version": 3
   },
   "file_extension": ".py",
   "mimetype": "text/x-python",
   "name": "python",
   "nbconvert_exporter": "python",
   "pygments_lexer": "ipython3",
   "version": "3.11.7"
  }
 },
 "nbformat": 4,
 "nbformat_minor": 5
}
